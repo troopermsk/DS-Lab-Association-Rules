{
 "cells": [
  {
   "cell_type": "markdown",
   "metadata": {},
   "source": [
    "This is the 3rd Lab for the course of Data Science Labs and Methods"
   ]
  },
  {
   "cell_type": "code",
   "execution_count": 15,
   "metadata": {},
   "outputs": [],
   "source": [
    "import pandas\n",
    "import mlxtend "
   ]
  },
  {
   "cell_type": "code",
   "execution_count": 16,
   "metadata": {},
   "outputs": [],
   "source": [
    "import csv\n",
    "headers = []\n",
    "rows = []\n",
    "#skipped_headers = False\n",
    "with open('retail_new.csv') as f:\n",
    "    reading = csv.reader(f)\n",
    "    headers = next(reading)\n",
    "    for row in reading:\n",
    "        if len(row) == 8 and row[0][0] != 'C':\n",
    "            #we read the row and store it into the list\n",
    "            rows.append(row)"
   ]
  },
  {
   "cell_type": "code",
   "execution_count": 17,
   "metadata": {},
   "outputs": [
    {
     "name": "stdout",
     "output_type": "stream",
     "text": [
      "['536365', '85123A', 'WHITE HANGING HEART T-LIGHT HOLDER', '6', '12/1/2010 8:26', '2.55', '17850', 'United Kingdom']\n",
      "['InvoiceNo', 'StockCode', 'Description', 'Quantity', 'InvoiceDate', 'UnitPrice', 'CustomerID', 'Country']\n"
     ]
    }
   ],
   "source": [
    "#just checking to see if the data was read correctly \n",
    "print(rows[0])\n",
    "print(headers)"
   ]
  },
  {
   "cell_type": "code",
   "execution_count": 18,
   "metadata": {},
   "outputs": [],
   "source": [
    "#now we want to aggregate the items at an invoice level, so we have all of the items/products\n",
    "#purchased from one invoice, together as a list or a set for more convenience. (depending on dataset, \n",
    "# it may be better to go with a list in some cases) \n",
    "from collections import defaultdict\n",
    "invoices = defaultdict(lambda: set())\n",
    "for row in rows:\n",
    "    invoices[row[0]].add(row[2])\n",
    "\n",
    "#the one below is the same but in the form of a list.\n",
    "invoices1 =  defaultdict(lambda: list())\n",
    "for row in rows:\n",
    "    invoices1[row[0]].append(row[2])\n"
   ]
  },
  {
   "cell_type": "markdown",
   "metadata": {},
   "source": [
    "Now, we build a matrix that conforms with the MLXtend library. \n",
    "For each column==Product, we check if the invoice==row, has that in its list. \n",
    "IF IT DOES, WE PUT A VALUE OF 1 for the i, j (row, column) configuration. "
   ]
  },
  {
   "cell_type": "code",
   "execution_count": 19,
   "metadata": {},
   "outputs": [
    {
     "data": {
      "text/plain": [
       "22064"
      ]
     },
     "execution_count": 19,
     "metadata": {},
     "output_type": "execute_result"
    }
   ],
   "source": [
    "#first, we get all of the products and put them in a set to avoid repetition\n",
    "all_products = set()\n",
    "#note, we use update so we can add multiple products from each of the lists directly\n",
    "for p in invoices.values():\n",
    "    all_products.update(p)\n",
    "#Now, we have all the products as well. \n",
    "all_products = list(all_products) \n",
    "matrix = []\n",
    "for p_list in invoices.values():\n",
    "    m_row = [int(item in p_list) for item in all_products]\n",
    "    matrix.append(m_row)\n",
    "len(invoices)\n",
    "#def get_presence_matrix(invoices, all_items):\n",
    " #   item_pos_dict = { k: v for v, k in enumerate(all_items) }\n",
    "  #  presence_matrix = []\n",
    "   # for invoice in invoices.values():\n",
    "    #    row = [0] * len(all_items)\n",
    "     #   for item in invoice:\n",
    "      #      row[item_pos_dict[item]] = 1\n",
    "       # presence_matrix.append(row)\n",
    "    #return presence_matrix\n",
    "#presence_matrix = get_presence_matrix(invoices, all_items)"
   ]
  },
  {
   "cell_type": "code",
   "execution_count": 20,
   "metadata": {},
   "outputs": [],
   "source": [
    "import pandas as pd\n",
    "df = pd.DataFrame(data=matrix, columns=all_products)"
   ]
  },
  {
   "cell_type": "code",
   "execution_count": 21,
   "metadata": {},
   "outputs": [
    {
     "name": "stdout",
     "output_type": "stream",
     "text": [
      "For 0.5 -> 0\n",
      "For 0.1 -> 1\n",
      "For 0.05 -> 23\n",
      "For 0.02 -> 303\n",
      "For 0.01 -> 1472\n"
     ]
    }
   ],
   "source": [
    "import warnings\n",
    "warnings.filterwarnings(\"ignore\", category=DeprecationWarning) \n",
    "from mlxtend.frequent_patterns import fpgrowth\n",
    "for minsup in [0.5, 0.1, 0.05, 0.02, 0.01]:\n",
    "    fi = fpgrowth(df, minsup)\n",
    "    print(f\"For {minsup} -> {len(fi)}\")\n",
    "    "
   ]
  },
  {
   "cell_type": "code",
   "execution_count": 24,
   "metadata": {},
   "outputs": [],
   "source": [
    "freq_itemsets = fpgrowth(df, 0.02)\n",
    "freq_itemsets = freq_itemsets[freq_itemsets[\"itemsets\"].map(len) > 1]\n",
    "#If we observe the result that this gives us, we can note which items are frequently bought together\n",
    "#or bought as a bundle by customers"
   ]
  }
 ],
 "metadata": {
  "kernelspec": {
   "display_name": "Python 3",
   "language": "python",
   "name": "python3"
  },
  "language_info": {
   "codemirror_mode": {
    "name": "ipython",
    "version": 3
   },
   "file_extension": ".py",
   "mimetype": "text/x-python",
   "name": "python",
   "nbconvert_exporter": "python",
   "pygments_lexer": "ipython3",
   "version": "3.11.0"
  },
  "orig_nbformat": 4
 },
 "nbformat": 4,
 "nbformat_minor": 2
}
